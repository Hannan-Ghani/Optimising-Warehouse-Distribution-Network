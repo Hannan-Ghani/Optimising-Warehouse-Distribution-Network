{
  "nbformat": 4,
  "nbformat_minor": 0,
  "metadata": {
    "colab": {
      "provenance": []
    },
    "kernelspec": {
      "name": "python3",
      "display_name": "Python 3"
    },
    "language_info": {
      "name": "python"
    }
  },
  "cells": [
    {
      "cell_type": "code",
      "source": [
        "import pandas as pd"
      ],
      "metadata": {
        "id": "geQmF97BQivy"
      },
      "execution_count": null,
      "outputs": []
    },
    {
      "cell_type": "markdown",
      "source": [
        "Loading the excel file"
      ],
      "metadata": {
        "id": "enu7IOzUc0O5"
      }
    },
    {
      "cell_type": "code",
      "source": [
        "dfs = pd.read_excel('/content/Distribution_Network_Data.xlsx')"
      ],
      "metadata": {
        "id": "3IND_S32RkQp"
      },
      "execution_count": null,
      "outputs": []
    },
    {
      "cell_type": "code",
      "source": [
        "xc = list(dfs['X'])\n",
        "yc = list(dfs['Y'])"
      ],
      "metadata": {
        "id": "OQmhS2NTR89a"
      },
      "execution_count": null,
      "outputs": []
    },
    {
      "cell_type": "markdown",
      "source": [
        "data cleaning and getting longitude and latitude of each store in order"
      ],
      "metadata": {
        "id": "ea583Fizc6o5"
      }
    },
    {
      "cell_type": "code",
      "source": [
        "yc"
      ],
      "metadata": {
        "colab": {
          "base_uri": "https://localhost:8080/"
        },
        "id": "8AHvilUnSlhf",
        "outputId": "1b4ea84e-1531-4bce-fea7-8b37a0b7100f"
      },
      "execution_count": null,
      "outputs": [
        {
          "output_type": "execute_result",
          "data": {
            "text/plain": [
              "[72.6439611285086,\n",
              " 25.3593730700641,\n",
              " 50.5648642532894,\n",
              " 65.4926922540545,\n",
              " 71.1176072605653,\n",
              " 67.2743901634899,\n",
              " 12.2284468976924,\n",
              " 46.1079951946237,\n",
              " 19.8891244405433,\n",
              " 49.206166784107,\n",
              " 42.0458705004164,\n",
              " 72.5752467820306,\n",
              " 69.8632165852765,\n",
              " 37.1248715385984,\n",
              " 76.9610339716859,\n",
              " 86.2753678010589,\n",
              " 16.5160503087941,\n",
              " 92.5591094904637,\n",
              " 57.1376740230397,\n",
              " 86.5148544660837,\n",
              " 49.29169136708,\n",
              " 58.2955216096463,\n",
              " 42.0535838452666,\n",
              " 79.6926263050003,\n",
              " 42.0285954296223,\n",
              " nan,\n",
              " nan,\n",
              " 1.0,\n",
              " 0.0,\n",
              " 74.0,\n",
              " 58.0,\n",
              " 77.0,\n",
              " 88.0,\n",
              " 72.0,\n",
              " 61.0,\n",
              " 47.0,\n",
              " 101.0,\n",
              " 25.0,\n",
              " 75.0,\n",
              " 80.0,\n",
              " 43.0,\n",
              " 57.0,\n",
              " 33.0,\n",
              " 60.0,\n",
              " 93.0,\n",
              " 57.0,\n",
              " 22.0,\n",
              " 90.0,\n",
              " 52.0,\n",
              " 48.0,\n",
              " 95.0,\n",
              " 71.0,\n",
              " 35.0]"
            ]
          },
          "metadata": {},
          "execution_count": 5
        }
      ]
    },
    {
      "cell_type": "code",
      "source": [
        "yc=[ 79.6926263050003,\n",
        " 72.6439611285086,\n",
        " 25.3593730700641,\n",
        " 50.5648642532894,\n",
        " 65.4926922540545,\n",
        " 71.1176072605653,\n",
        " 67.2743901634899,\n",
        " 12.2284468976924,\n",
        " 46.1079951946237,\n",
        " 19.8891244405433,\n",
        " 49.206166784107,\n",
        " 42.0458705004164,\n",
        " 72.5752467820306,\n",
        " 69.8632165852765,\n",
        " 37.1248715385984,\n",
        " 76.9610339716859,\n",
        " 86.2753678010589,\n",
        " 16.5160503087941,\n",
        " 92.5591094904637,\n",
        " 57.1376740230397,\n",
        " 86.5148544660837,\n",
        " 49.29169136708,\n",
        " 58.2955216096463,\n",
        " 42.0535838452666,\n",
        "\n",
        " 42.0285954296223,]"
      ],
      "metadata": {
        "id": "WMojP83IS6np"
      },
      "execution_count": null,
      "outputs": []
    },
    {
      "cell_type": "code",
      "source": [
        "xc"
      ],
      "metadata": {
        "colab": {
          "base_uri": "https://localhost:8080/"
        },
        "id": "_16Y13kjUBjF",
        "outputId": "cdf4af35-340e-4752-9476-51e886e3a2cc"
      },
      "execution_count": null,
      "outputs": [
        {
          "output_type": "execute_result",
          "data": {
            "text/plain": [
              "[[19.9906676704456,\n",
              "  90.8971962770689,\n",
              "  33.86168368335,\n",
              "  37.6105020952811,\n",
              "  14.031734193723,\n",
              "  2.76790974222021,\n",
              "  18.6794883893845,\n",
              "  94.1041534254341,\n",
              "  52.5421770712729,\n",
              "  4.36025048478595,\n",
              "  82.141108510899,\n",
              "  22.0757382980061,\n",
              "  10.8797000941924,\n",
              "  48.039399290203,\n",
              "  46.7438178442938,\n",
              "  57.7102187574938,\n",
              "  32.7323075124292,\n",
              "  16.7414536355628,\n",
              "  37.8697820230032,\n",
              "  75.1446122718255,\n",
              "  2.11897096450746,\n",
              "  44.0381681668617,\n",
              "  45.0885991859118,\n",
              "  0.435979595346347,\n",
              "  73.1817470551995]]"
            ]
          },
          "metadata": {},
          "execution_count": 42
        }
      ]
    },
    {
      "cell_type": "code",
      "source": [
        "xc=[19.9906676704456,\n",
        " 90.8971962770689,\n",
        " 33.86168368335,\n",
        " 37.6105020952811,\n",
        " 14.031734193723,\n",
        " 2.76790974222021,\n",
        " 18.6794883893845,\n",
        " 94.1041534254341,\n",
        " 52.5421770712729,\n",
        " 4.36025048478595,\n",
        " 82.141108510899,\n",
        " 22.0757382980061,\n",
        " 10.8797000941924,\n",
        " 48.039399290203,\n",
        " 46.7438178442938,\n",
        " 57.7102187574938,\n",
        " 32.7323075124292,\n",
        " 16.7414536355628,\n",
        " 37.8697820230032,\n",
        " 75.1446122718255,\n",
        " 2.11897096450746,\n",
        " 44.0381681668617,\n",
        " 45.0885991859118,\n",
        " 0.435979595346347,\n",
        " 73.1817470551995,]"
      ],
      "metadata": {
        "id": "08Ui1ragSbX6"
      },
      "execution_count": null,
      "outputs": []
    },
    {
      "cell_type": "code",
      "source": [
        "import matplotlib.pyplot as plt"
      ],
      "metadata": {
        "id": "s9ZzmGuGxqKb"
      },
      "execution_count": null,
      "outputs": []
    },
    {
      "cell_type": "markdown",
      "source": [
        "Plotting the data extracted from excel file."
      ],
      "metadata": {
        "id": "6TCgzIXzdDSR"
      }
    },
    {
      "cell_type": "code",
      "source": [
        "plt.plot(xc[0], yc[0], c='r', marker='s')\n",
        "plt.plot(xc[24], yc[24], c='r', marker='s')\n",
        "plt.scatter(xc[1:24], yc[1:24], c='b')\n",
        "plt.grid()\n",
        "annotations=[\"W1\",\"S1\",\"S2\",\"S3\",\"S4\",\"S5\",\"S6\",\"S7\",\"S8\",\"S9\",\"S10\",\"S11\",\"S12\",\"S13\",\"S14\",\"S15\",\"S16\",\"S17\",\"S18\",\"S19\",\"S20\",\"S21\",\"S22\",\"S23\",\"W2\"]\n",
        "for i, label in enumerate(annotations):\n",
        "    plt.annotate(label, (xc[i], yc[i]))\n"
      ],
      "metadata": {
        "colab": {
          "base_uri": "https://localhost:8080/",
          "height": 265
        },
        "id": "gYxNNicCSC-2",
        "outputId": "8b6b6a38-cd82-45e0-d597-d9a8e1115222"
      },
      "execution_count": null,
      "outputs": [
        {
          "output_type": "display_data",
          "data": {
            "text/plain": [
              "<Figure size 432x288 with 1 Axes>"
            ],
            "image/png": "[encoded data removed]"
          },
          "metadata": {
            "needs_background": "light"
          }
        }
      ]
    },
    {
      "cell_type": "markdown",
      "source": [
        "n is number of clients 23,\n",
        "\n",
        "\n",
        "N is set of client[1,2......n]\n",
        "\n",
        "\n",
        "V is for nodes\n",
        "\n",
        "\n",
        "A is for arcs\n",
        "\n",
        "\n",
        "cij is cost of travel over arc ij\n",
        "\n",
        "\n",
        "Q= capacity of car\n",
        "\n",
        "\n",
        "q=is the amount needed to be delivered\n",
        "\n",
        "---\n",
        "\n"
      ],
      "metadata": {
        "id": "nvC2PSszTb_s"
      }
    },
    {
      "cell_type": "code",
      "source": [
        "import numpy as np"
      ],
      "metadata": {
        "id": "I-NycoD01ULR"
      },
      "execution_count": null,
      "outputs": []
    },
    {
      "cell_type": "code",
      "source": [
        "n=23"
      ],
      "metadata": {
        "id": "H3vdbm_j1SPa"
      },
      "execution_count": null,
      "outputs": []
    },
    {
      "cell_type": "code",
      "source": [
        "N = [i for i in range(1, n+1)]\n",
        "V = [0] + N\n",
        "A = [(i, j) for i in V for j in V if i != j]\n",
        "c = {(i, j): np.hypot(xc[i]-xc[j], yc[i]-yc[j]) for i, j in A}\n",
        "Q1 = 4\n",
        "Q2 = 4\n",
        "q = 1"
      ],
      "metadata": {
        "id": "RCI9wZcASn_E"
      },
      "execution_count": null,
      "outputs": []
    },
    {
      "cell_type": "code",
      "source": [
        "pip install gurobipy"
      ],
      "metadata": {
        "colab": {
          "base_uri": "https://localhost:8080/"
        },
        "id": "p-DTNMwEXaW7",
        "outputId": "d7959958-545b-44ed-c06a-d7bbc667595f"
      },
      "execution_count": null,
      "outputs": [
        {
          "output_type": "stream",
          "name": "stdout",
          "text": [
            "Requirement already satisfied: gurobipy in /usr/local/lib/python3.7/dist-packages (9.5.1)\n"
          ]
        }
      ]
    },
    {
      "cell_type": "code",
      "source": [
        "from gurobipy import Model, GRB, quicksum"
      ],
      "metadata": {
        "id": "LFLuj9VKWjhe"
      },
      "execution_count": null,
      "outputs": []
    },
    {
      "cell_type": "code",
      "source": [
        "mdl = Model('CVRP')"
      ],
      "metadata": {
        "id": "lO8PMzEXXZWf"
      },
      "execution_count": null,
      "outputs": []
    },
    {
      "cell_type": "code",
      "source": [
        "x = mdl.addVars(A, vtype=GRB.BINARY)\n",
        "u = mdl.addVars(N, vtype=GRB.CONTINUOUS)"
      ],
      "metadata": {
        "id": "Q0uz5OCXXjsM"
      },
      "execution_count": null,
      "outputs": []
    },
    {
      "cell_type": "code",
      "source": [
        "mdl.modelSense = GRB.MINIMIZE\n",
        "mdl.setObjective(quicksum(x[i, j]*c[i, j] for i, j in A))"
      ],
      "metadata": {
        "id": "xp6NQ2OgZNOU"
      },
      "execution_count": null,
      "outputs": []
    },
    {
      "cell_type": "code",
      "source": [
        "a=quicksum(x[i, j]*c[i, j] for i, j in A)"
      ],
      "metadata": {
        "id": "DhUm2YtPcdkS"
      },
      "execution_count": null,
      "outputs": []
    },
    {
      "cell_type": "code",
      "source": [
        "print(a)"
      ],
      "metadata": {
        "colab": {
          "base_uri": "https://localhost:8080/"
        },
        "id": "IdYyIXVZchNi",
        "outputId": "c0ba32c1-3bb1-4f34-830b-c1c8476218e3"
      },
      "execution_count": null,
      "outputs": [
        {
          "output_type": "stream",
          "name": "stdout",
          "text": [
            "<gurobi.LinExpr: 71.25601363963729 <gurobi.Var *Awaiting Model Update*> + 56.07590830581308 <gurobi.Var *Awaiting Model Update*> + 34.04240131512035 <gurobi.Var *Awaiting Model Update*> + 15.399578410827203 <gurobi.Var *Awaiting Model Update*> + 19.239395579556902 <gurobi.Var *Awaiting Model Update*> + 12.487264711432971 <gurobi.Var *Awaiting Model Update*> + 100.22087743507494 <gurobi.Var *Awaiting Model Update*> + 46.771018922963655 <gurobi.Var *Awaiting Model Update*> + 61.8123675056204 <gurobi.Var *Awaiting Model Update*> + 69.2250063978456 <gurobi.Var *Awaiting Model Update*> + 37.704452550486494 <gurobi.Var *Awaiting Model Update*> + 11.561436824613343 <gurobi.Var *Awaiting Model Update*> + 29.72118168773542 <gurobi.Var *Awaiting Model Update*> + 50.2766823694345 <gurobi.Var *Awaiting Model Update*> + 37.81833062000306 <gurobi.Var *Awaiting Model Update*> + 14.34161327977978 <gurobi.Var *Awaiting Model Update*> + 63.260075454024694 <gurobi.Var *Awaiting Model Update*> + 22.027462849671164 <gurobi.Var *Awaiting Model Update*> + 59.58761177907369 <gurobi.Var *Awaiting Model Update*> + 19.12956717312024 <gurobi.Var *Awaiting Model Update*> + 38.76208360272698 <gurobi.Var *Awaiting Model Update*> + 32.98093776257691 <gurobi.Var *Awaiting Model Update*> + 42.41560258914242 <gurobi.Var *Awaiting Model Update*> + 71.25601363963729 <gurobi.Var *Awaiting Model Update*> + 74.08698917276271 <gurobi.Var *Awaiting Model Update*> + 57.67979105066775 <gurobi.Var *Awaiting Model Update*> + 77.19740868579089 <gurobi.Var *Awaiting Model Update*> + 88.142503375339 <gurobi.Var *Awaiting Model Update*> + 72.41705341215759 <gurobi.Var *Awaiting Model Update*> + 60.50056969918056 <gurobi.Var *Awaiting Model Update*> + 46.639736130485126 <gurobi.Var *Awaiting Model Update*> + 101.34947351136269 <gurobi.Var *Awaiting Model Update*> + 25.019977551935046 <gurobi.Var *Awaiting Model Update*> + 75.31690532973889 <gurobi.Var *Awaiting Model Update*> + 80.0175256868023 <gurobi.Var *Awaiting Model Update*> + 42.94791383504124 <gurobi.Var *Awaiting Model Update*> + 56.66680291249821 <gurobi.Var *Awaiting Model Update*> + 33.466589231920274 <gurobi.Var *Awaiting Model Update*> + 59.74085313146573 <gurobi.Var *Awaiting Model Update*> + 93.00223943378519 <gurobi.Var *Awaiting Model Update*> + 56.64379751350516 <gurobi.Var *Awaiting Model Update*> + 22.10404584322701 <gurobi.Var *Awaiting Model Update*> + 89.85530018663513 <gurobi.Var *Awaiting Model Update*> + 52.355486994619014 <gurobi.Var *Awaiting Model Update*> + 48.00317993723349 <gurobi.Var *Awaiting Model Update*> + 95.49347048813675 <gurobi.Var *Awaiting Model Update*> + 56.07590830581308 <gurobi.Var *Awaiting Model Update*> + 74.08698917276271 <gurobi.Var *Awaiting Model Update*> + 25.482747600548926 <gurobi.Var *Awaiting Model Update*> + 44.765055629198216 <gurobi.Var *Awaiting Model Update*> + 55.3230401743689 <gurobi.Var *Awaiting Model Update*> + 44.57990255581864 <gurobi.Var *Awaiting Model Update*> + 61.656924856581966 <gurobi.Var *Awaiting Model Update*> + 27.918921062318926 <gurobi.Var *Awaiting Model Update*> + 30.00430270541396 <gurobi.Var *Awaiting Model Update*> + 53.84767805689555 <gurobi.Var *Awaiting Model Update*> + 20.42908967916738 <gurobi.Var *Awaiting Model Update*> + 52.512001486104865 <gurobi.Var *Awaiting Model Update*> + 46.707597962808116 <gurobi.Var *Awaiting Model Update*> + 17.44638457542531 <gurobi.Var *Awaiting Model Update*> + 56.846143519051765 <gurobi.Var *Awaiting Model Update*> + 60.92646308954781 <gurobi.Var *Awaiting Model Update*> + 19.26931847131994 <gurobi.Var *Awaiting Model Update*> + 67.3191609222182 <gurobi.Var *Awaiting Model Update*> + 52.09741456443935 <gurobi.Var *Awaiting Model Update*> + 68.90277727007721 <gurobi.Var *Awaiting Model Update*> + 26.006089585188242 <gurobi.Var *Awaiting Model Update*> + 34.79703309655991 <gurobi.Var *Awaiting Model Update*> + 37.362740359690854 <gurobi.Var *Awaiting Model Update*> + 34.04240131512035 <gurobi.Var *Awaiting Model Update*> + 57.67979105066775 <gurobi.Var *Awaiting Model Update*> + 25.482747600548926 <gurobi.Var *Awaiting Model Update*> + 27.906958712406716 <gurobi.Var *Awaiting Model Update*> + 40.45270679453608 <gurobi.Var *Awaiting Model Update*> + 25.250574965265777 <gurobi.Var *Awaiting Model Update*> + 68.27308061216674 <gurobi.Var *Awaiting Model Update*> + 15.582637754717638 <gurobi.Var *Awaiting Model Update*> + 45.23914505404066 <gurobi.Var *Awaiting Model Update*> + 44.55132957112989 <gurobi.Var *Awaiting Model Update*> + 17.717283674384603 <gurobi.Var *Awaiting Model Update*> + 34.62647418786561 <gurobi.Var *Awaiting Model Update*> + 21.936004636937923 <gurobi.Var *Awaiting Model Update*> + 16.24964186504154 <gurobi.Var *Awaiting Model Update*> + 33.17764888752099 <gurobi.Var *Awaiting Model Update*> + 36.04215373730354 <gurobi.Var *Awaiting Model Update*> + 39.935434323930025 <gurobi.Var *Awaiting Model Update*> + 41.99504564970558 <gurobi.Var *Awaiting Model Update*> + 38.10526544999127 <gurobi.Var *Awaiting Model Update*> + 50.51782436236422 <gurobi.Var *Awaiting Model Update*> + 6.552546094910527 <gurobi.Var *Awaiting Model Update*> + 10.755696130808753 <gurobi.Var *Awaiting Model Update*> + 38.136426383212 <gurobi.Var *Awaiting Model Update*> + 15.399578410827203 <gurobi.Var *Awaiting Model Update*> + 77.19740868579089 <gurobi.Var *Awaiting Model Update*> + 44.765055629198216 <gurobi.Var *Awaiting Model Update*> + 27.906958712406716 <gurobi.Var *Awaiting Model Update*> + 12.590210884045684 <gurobi.Var *Awaiting Model Update*> + 4.977556278313236 <gurobi.Var *Awaiting Model Update*> + 96.17001692316396 <gurobi.Var *Awaiting Model Update*> + 43.11404284813638 <gurobi.Var *Awaiting Model Update*> + 46.61783987331191 <gurobi.Var *Awaiting Model Update*> + 70.02954934711806 <gurobi.Var *Awaiting Model Update*> + 24.7882926474697 <gurobi.Var *Awaiting Model Update*> + 7.75228338016345 <gurobi.Var *Awaiting Model Update*> + 34.287355807121486 <gurobi.Var *Awaiting Model Update*> + 43.2991185696222 <gurobi.Var *Awaiting Model Update*> + 45.15897336676209 <gurobi.Var *Awaiting Model Update*> + 27.957665234070618 <gurobi.Var *Awaiting Model Update*> + 49.05154468197434 <gurobi.Var *Awaiting Model Update*> + 36.0672076313989 <gurobi.Var *Awaiting Model Update*> + 61.681360204113616 <gurobi.Var *Awaiting Model Update*> + 24.16288955866451 <gurobi.Var *Awaiting Model Update*> + 34.100711275926216 <gurobi.Var *Awaiting Model Update*> + 31.87990163767406 <gurobi.Var *Awaiting Model Update*> + 27.09679586405359 <gurobi.Var *Awaiting Model Update*> + 19.239395579556902 <gurobi.Var *Awaiting Model Update*> + 88.142503375339 <gurobi.Var *Awaiting Model Update*> + 55.3230401743689 <gurobi.Var *Awaiting Model Update*> + 40.45270679453608 <gurobi.Var *Awaiting Model Update*> + 12.590210884045684 <gurobi.Var *Awaiting Model Update*> + 16.36913720084682 <gurobi.Var *Awaiting Model Update*> + 108.67494015827012 <gurobi.Var *Awaiting Model Update*> + 55.70420436405939 <gurobi.Var *Awaiting Model Update*> + 51.25322429937187 <gurobi.Var *Awaiting Model Update*> + 82.34206644556333 <gurobi.Var *Awaiting Model Update*> + 34.89925675126927 <gurobi.Var *Awaiting Model Update*> + 8.241714365888125 <gurobi.Var *Awaiting Model Update*> + 45.288864656329885 <gurobi.Var *Awaiting Model Update*> + 55.58225054156682 <gurobi.Var *Awaiting Model Update*> + 55.252176026452126 <gurobi.Var *Awaiting Model Update*> + 33.58009586547142 <gurobi.Var *Awaiting Model Update*> + 56.36124511130574 <gurobi.Var *Awaiting Model Update*> + 41.13246230766083 <gurobi.Var *Awaiting Model Update*> + 73.71448705908931 <gurobi.Var *Awaiting Model Update*> + 15.410916359680362 <gurobi.Var *Awaiting Model Update*> + 46.68623817599985 <gurobi.Var *Awaiting Model Update*> + 44.22043232973747 <gurobi.Var *Awaiting Model Update*> + 29.157423673824987 <gurobi.Var *Awaiting Model Update*> + 12.487264711432971 <gurobi.Var *Awaiting Model Update*> + 72.41705341215759 <gurobi.Var *Awaiting Model Update*> + 44.57990255581864 <gurobi.Var *Awaiting Model Update*> + 25.250574965265777 <gurobi.Var *Awaiting Model Update*> + 4.977556278313236 <gurobi.Var *Awaiting Model Update*> + 16.36913720084682 <gurobi.Var *Awaiting Model Update*> + 93.37524278855547 <gurobi.Var *Awaiting Model Update*> + 39.933669512637294 <gurobi.Var *Awaiting Model Update*> + 49.50155534730954 <gurobi.Var *Awaiting Model Update*> + 65.98361860745963 <gurobi.Var *Awaiting Model Update*> + 25.456093923300536 <gurobi.Var *Awaiting Model Update*> + 9.430576776642162 <gurobi.Var *Awaiting Model Update*> + 29.473825512582202 <gurobi.Var *Awaiting Model Update*> + 41.189805305031115 <gurobi.Var *Awaiting Model Update*> + 40.21478560597969 <gurobi.Var *Awaiting Model Update*> + 23.6330039666651 <gurobi.Var *Awaiting Model Update*> + 50.795325016302634 <gurobi.Var *Awaiting Model Update*> + 31.742469991926413 <gurobi.Var *Awaiting Model Update*> + 57.367789125706 <gurobi.Var *Awaiting Model Update*> + 25.385945008193858 <gurobi.Var *Awaiting Model Update*> + 31.08761965894194 <gurobi.Var *Awaiting Model Update*> + 27.893748646792815 <gurobi.Var *Awaiting Model Update*> + 31.127394437367858 <gurobi.Var *Awaiting Model Update*> + 100.22087743507494 <gurobi.Var *Awaiting Model Update*> + 60.50056969918056 <gurobi.Var *Awaiting Model Update*> + 61.656924856581966 <gurobi.Var *Awaiting Model Update*> + 68.27308061216674 <gurobi.Var *Awaiting Model Update*> + 96.17001692316396 <gurobi.Var *Awaiting Model Update*> + 108.67494015827012 <gurobi.Var *Awaiting Model Update*> + 93.37524278855547 <gurobi.Var *Awaiting Model Update*> + 53.62109352920691 <gurobi.Var *Awaiting Model Update*> + 90.0702730951562 <gurobi.Var *Awaiting Model Update*> + 38.86471679589761 <gurobi.Var *Awaiting Model Update*> + 77.9562142235844 <gurobi.Var *Awaiting Model Update*> + 102.80100139864587 <gurobi.Var *Awaiting Model Update*> + 73.7816254258481 <gurobi.Var *Awaiting Model Update*> + 53.50545155643989 <gurobi.Var *Awaiting Model Update*> + 74.26187655793825 <gurobi.Var *Awaiting Model Update*> + 96.17406077544523 <gurobi.Var *Awaiting Model Update*> + 77.48142268820729 <gurobi.Var *Awaiting Model Update*> + 98.05773747961047 <gurobi.Var *Awaiting Model Update*> + 48.74733717600797 <gurobi.Var *Awaiting Model Update*> + 118.23596805451001 <gurobi.Var *Awaiting Model Update*> + 62.29194948393556 <gurobi.Var *Awaiting Model Update*> + 67.26588979508334 <gurobi.Var *Awaiting Model Update*> + 98.30191037108634 <gurobi.Var *Awaiting Model Update*> + 46.771018922963655 <gurobi.Var *Awaiting Model Update*> + 46.639736130485126 <gurobi.Var *Awaiting Model Update*> + 27.918921062318926 <gurobi.Var *Awaiting Model Update*> + 15.582637754717638 <gurobi.Var *Awaiting Model Update*> + 43.11404284813638 <gurobi.Var *Awaiting Model Update*> + 55.70420436405939 <gurobi.Var *Awaiting Model Update*> + 39.933669512637294 <gurobi.Var *Awaiting Model Update*> + 53.62109352920691 <gurobi.Var *Awaiting Model Update*> + 54.85368933084438 <gurobi.Var *Awaiting Model Update*> + 29.760635234577368 <gurobi.Var *Awaiting Model Update*> + 30.736049657633355 <gurobi.Var *Awaiting Model Update*> + 49.358660784677454 <gurobi.Var *Awaiting Model Update*> + 24.178204049610994 <gurobi.Var *Awaiting Model Update*> + 10.69193529462908 <gurobi.Var *Awaiting Model Update*> + 31.282881207609705 <gurobi.Var *Awaiting Model Update*> + 44.78670287085894 <gurobi.Var *Awaiting Model Update*> + 46.4475510726473 <gurobi.Var *Awaiting Model Update*> + 48.7132958829279 <gurobi.Var *Awaiting Model Update*> + 25.150027674998434 <gurobi.Var *Awaiting Model Update*> + 64.61589580179881 <gurobi.Var *Awaiting Model Update*> + 9.080423380262502 <gurobi.Var *Awaiting Model Update*> + 14.286063957928295 <gurobi.Var *Awaiting Model Update*> + 52.26369740833546 <gurobi.Var *Awaiting Model Update*> + 61.8123675056204 <gurobi.Var *Awaiting Model Update*> + 101.34947351136269 <gurobi.Var *Awaiting Model Update*> + 30.00430270541396 <gurobi.Var *Awaiting Model Update*> + 45.23914505404066 <gurobi.Var *Awaiting Model Update*> + 46.61783987331191 <gurobi.Var *Awaiting Model Update*> + 51.25322429937187 <gurobi.Var *Awaiting Model Update*> + 49.50155534730954 <gurobi.Var *Awaiting Model Update*> + 90.0702730951562 <gurobi.Var *Awaiting Model Update*> + 54.85368933084438 <gurobi.Var *Awaiting Model Update*> + 83.12250505761158 <gurobi.Var *Awaiting Model Update*> + 28.368290474084862 <gurobi.Var *Awaiting Model Update*> + 53.08795259370771 <gurobi.Var *Awaiting Model Update*> + 66.37226774833033 <gurobi.Var *Awaiting Model Update*> + 45.75410101997475 <gurobi.Var *Awaiting Model Update*> + 78.12440061997185 <gurobi.Var *Awaiting Model Update*> + 72.19492314215344 <gurobi.Var *Awaiting Model Update*> + 12.83245185298126 <gurobi.Var *Awaiting Model Update*> + 80.02384289114357 <gurobi.Var *Awaiting Model Update*> + 79.98675090037221 <gurobi.Var *Awaiting Model Update*> + 66.66341751908776 <gurobi.Var *Awaiting Model Update*> + 49.3846949312745 <gurobi.Var *Awaiting Model Update*> + 55.98079788133948 <gurobi.Var *Awaiting Model Update*> + 22.5091795211938 <gurobi.Var *Awaiting Model Update*> + 69.2250063978456 <gurobi.Var *Awaiting Model Update*> + 25.019977551935046 <gurobi.Var *Awaiting Model Update*> + 53.84767805689555 <gurobi.Var *Awaiting Model Update*> + 44.55132957112989 <gurobi.Var *Awaiting Model Update*> + 70.02954934711806 <gurobi.Var *Awaiting Model Update*> + 82.34206644556333 <gurobi.Var *Awaiting Model Update*> + 65.98361860745963 <gurobi.Var *Awaiting Model Update*> + 38.86471679589761 <gurobi.Var *Awaiting Model Update*> + 29.760635234577368 <gurobi.Var *Awaiting Model Update*> + 83.12250505761158 <gurobi.Var *Awaiting Model Update*> + 60.490648382060805 <gurobi.Var *Awaiting Model Update*> + 74.99534805227599 <gurobi.Var *Awaiting Model Update*> + 39.87029318002189 <gurobi.Var *Awaiting Model Update*> + 37.40221759929863 <gurobi.Var *Awaiting Model Update*> + 36.97568155887303 <gurobi.Var *Awaiting Model Update*> + 61.76856223145864 <gurobi.Var *Awaiting Model Update*> + 73.11469464466505 <gurobi.Var *Awaiting Model Update*> + 61.96311798399522 <gurobi.Var *Awaiting Model Update*> + 10.57637776862247 <gurobi.Var *Awaiting Model Update*> + 88.29201931117494 <gurobi.Var *Awaiting Model Update*> + 38.10303632672281 <gurobi.Var *Awaiting Model Update*> + 38.15107886315692 <gurobi.Var *Awaiting Model Update*> + 82.01760502358057 <gurobi.Var *Awaiting Model Update*> + 37.704452550486494 <gurobi.Var *Awaiting Model Update*> + 75.31690532973889 <gurobi.Var *Awaiting Model Update*> + 20.42908967916738 <gurobi.Var *Awaiting Model Update*> + 17.717283674384603 <gurobi.Var *Awaiting Model Update*> + 24.7882926474697 <gurobi.Var *Awaiting Model Update*> + 34.89925675126927 <gurobi.Var *Awaiting Model Update*> + 25.456093923300536 <gurobi.Var *Awaiting Model Update*> + 77.9562142235844 <gurobi.Var *Awaiting Model Update*> + 30.736049657633355 <gurobi.Var *Awaiting Model Update*> + 28.368290474084862 <gurobi.Var *Awaiting Model Update*> + 60.490648382060805 <gurobi.Var *Awaiting Model Update*> + 32.51759658409034 <gurobi.Var *Awaiting Model Update*> + 38.05149714955522 <gurobi.Var *Awaiting Model Update*> + 25.154132449444393 <gurobi.Var *Awaiting Model Update*> + 49.888724556186865 <gurobi.Var *Awaiting Model Update*> + 45.49517445718098 <gurobi.Var *Awaiting Model Update*> + 26.081148591972394 <gurobi.Var *Awaiting Model Update*> + 52.924844170320945 <gurobi.Var *Awaiting Model Update*> + 55.17307240325294 <gurobi.Var *Awaiting Model Update*> + 48.741800308792186 <gurobi.Var *Awaiting Model Update*> + 23.126829566029546 <gurobi.Var *Awaiting Model Update*> + 28.171668878818597 <gurobi.Var *Awaiting Model Update*> + 21.639760077344373 <gurobi.Var *Awaiting Model Update*> + 11.561436824613343 <gurobi.Var *Awaiting Model Update*> + 80.0175256868023 <gurobi.Var *Awaiting Model Update*> + 52.512001486104865 <gurobi.Var *Awaiting Model Update*> + 34.62647418786561 <gurobi.Var *Awaiting Model Update*> + 7.75228338016345 <gurobi.Var *Awaiting Model Update*> + 8.241714365888125 <gurobi.Var *Awaiting Model Update*> + 9.430576776642162 <gurobi.Var *Awaiting Model Update*> + 102.80100139864587 <gurobi.Var *Awaiting Model Update*> + 49.358660784677454 <gurobi.Var *Awaiting Model Update*> + 53.08795259370771 <gurobi.Var *Awaiting Model Update*> + 74.99534805227599 <gurobi.Var *Awaiting Model Update*> + 32.51759658409034 <gurobi.Var *Awaiting Model Update*> + 37.25853395030589 <gurobi.Var *Awaiting Model Update*> + 50.42781025280881 <gurobi.Var *Awaiting Model Update*> + 47.03543991020776 <gurobi.Var *Awaiting Model Update*> + 25.7920485210384 <gurobi.Var *Awaiting Model Update*> + 56.364826477198534 <gurobi.Var *Awaiting Model Update*> + 33.583020877720664 <gurobi.Var *Awaiting Model Update*> + 66.09309789900934 <gurobi.Var *Awaiting Model Update*> + 16.46399214252189 <gurobi.Var *Awaiting Model Update*> + 40.51676144125176 <gurobi.Var *Awaiting Model Update*> + 37.069655084263545 <gurobi.Var *Awaiting Model Update*> + 32.25900194183711 <gurobi.Var *Awaiting Model Update*> + 29.72118168773542 <gurobi.Var *Awaiting Model Update*> + 42.94791383504124 <gurobi.Var *Awaiting Model Update*> + 46.707597962808116 <gurobi.Var *Awaiting Model Update*> + 21.936004636937923 <gurobi.Var *Awaiting Model Update*> + 34.287355807121486 <gurobi.Var *Awaiting Model Update*> + 45.288864656329885 <gurobi.Var *Awaiting Model Update*> + 29.473825512582202 <gurobi.Var *Awaiting Model Update*> + 73.7816254258481 <gurobi.Var *Awaiting Model Update*> + 24.178204049610994 <gurobi.Var *Awaiting Model Update*> + 66.37226774833033 <gurobi.Var *Awaiting Model Update*> + 39.87029318002189 <gurobi.Var *Awaiting Model Update*> + 38.05149714955522 <gurobi.Var *Awaiting Model Update*> + 37.25853395030589 <gurobi.Var *Awaiting Model Update*> + 32.76397057254107 <gurobi.Var *Awaiting Model Update*> + 11.995989363939353 <gurobi.Var *Awaiting Model Update*> + 22.44249910822986 <gurobi.Var *Awaiting Model Update*> + 61.85047737836364 <gurobi.Var *Awaiting Model Update*> + 24.87015621432754 <gurobi.Var *Awaiting Model Update*> + 29.943814123828933 <gurobi.Var *Awaiting Model Update*> + 48.84631799561636 <gurobi.Var *Awaiting Model Update*> + 20.95703939742658 <gurobi.Var *Awaiting Model Update*> + 11.93812331586105 <gurobi.Var *Awaiting Model Update*> + 55.13130907006378 <gurobi.Var *Awaiting Model Update*> + 50.2766823694345 <gurobi.Var *Awaiting Model Update*> + 56.66680291249821 <gurobi.Var *Awaiting Model Update*> + 17.44638457542531 <gurobi.Var *Awaiting Model Update*> + 16.24964186504154 <gurobi.Var *Awaiting Model Update*> + 43.2991185696222 <gurobi.Var *Awaiting Model Update*> + 55.58225054156682 <gurobi.Var *Awaiting Model Update*> + 41.189805305031115 <gurobi.Var *Awaiting Model Update*> + 53.50545155643989 <gurobi.Var *Awaiting Model Update*> + 10.69193529462908 <gurobi.Var *Awaiting Model Update*> + 45.75410101997475 <gurobi.Var *Awaiting Model Update*> + 37.40221759929863 <gurobi.Var *Awaiting Model Update*> + 25.154132449444393 <gurobi.Var *Awaiting Model Update*> + 50.42781025280881 <gurobi.Var *Awaiting Model Update*> + 32.76397057254107 <gurobi.Var *Awaiting Model Update*> + 41.31805642070262 <gurobi.Var *Awaiting Model Update*> + 51.10864608484648 <gurobi.Var *Awaiting Model Update*> + 36.39870012233096 <gurobi.Var *Awaiting Model Update*> + 56.14003249964834 <gurobi.Var *Awaiting Model Update*> + 34.74359491181325 <gurobi.Var *Awaiting Model Update*> + 66.56385935792535 <gurobi.Var *Awaiting Model Update*> + 12.464030043116932 <gurobi.Var *Awaiting Model Update*> + 21.23525778599865 <gurobi.Var *Awaiting Model Update*> + 46.56939003565092 <gurobi.Var *Awaiting Model Update*> + 37.81833062000306 <gurobi.Var *Awaiting Model Update*> + 33.466589231920274 <gurobi.Var *Awaiting Model Update*> + 56.846143519051765 <gurobi.Var *Awaiting Model Update*> + 33.17764888752099 <gurobi.Var *Awaiting Model Update*> + 45.15897336676209 <gurobi.Var *Awaiting Model Update*> + 55.252176026452126 <gurobi.Var *Awaiting Model Update*> + 40.21478560597969 <gurobi.Var *Awaiting Model Update*> + 74.26187655793825 <gurobi.Var *Awaiting Model Update*> + 31.282881207609705 <gurobi.Var *Awaiting Model Update*> + 78.12440061997185 <gurobi.Var *Awaiting Model Update*> + 36.97568155887303 <gurobi.Var *Awaiting Model Update*> + 49.888724556186865 <gurobi.Var *Awaiting Model Update*> + 47.03543991020776 <gurobi.Var *Awaiting Model Update*> + 11.995989363939353 <gurobi.Var *Awaiting Model Update*> + 41.31805642070262 <gurobi.Var *Awaiting Model Update*> + 26.65807316464052 <gurobi.Var *Awaiting Model Update*> + 73.02078995480126 <gurobi.Var *Awaiting Model Update*> + 25.237727506747106 <gurobi.Var *Awaiting Model Update*> + 26.39931205289564 <gurobi.Var *Awaiting Model Update*> + 56.40622587286251 <gurobi.Var *Awaiting Model Update*> + 30.862882035284105 <gurobi.Var *Awaiting Model Update*> + 22.53234635689756 <gurobi.Var *Awaiting Model Update*> + 67.07360543411481 <gurobi.Var *Awaiting Model Update*> + 14.34161327977978 <gurobi.Var *Awaiting Model Update*> + 59.74085313146573 <gurobi.Var *Awaiting Model Update*> + 60.92646308954781 <gurobi.Var *Awaiting Model Update*> + 36.04215373730354 <gurobi.Var *Awaiting Model Update*> + 27.957665234070618 <gurobi.Var *Awaiting Model Update*> + 33.58009586547142 <gurobi.Var *Awaiting Model Update*> + 23.6330039666651 <gurobi.Var *Awaiting Model Update*> + 96.17406077544523 <gurobi.Var *Awaiting Model Update*> + 44.78670287085894 <gurobi.Var *Awaiting Model Update*> + 72.19492314215344 <gurobi.Var *Awaiting Model Update*> + 61.76856223145864 <gurobi.Var *Awaiting Model Update*> + 45.49517445718098 <gurobi.Var *Awaiting Model Update*> + 25.7920485210384 <gurobi.Var *Awaiting Model Update*> + 22.44249910822986 <gurobi.Var *Awaiting Model Update*> + 51.10864608484648 <gurobi.Var *Awaiting Model Update*> + 26.65807316464052 <gurobi.Var *Awaiting Model Update*> + 71.56863687885844 <gurobi.Var *Awaiting Model Update*> + 8.116591277498287 <gurobi.Var *Awaiting Model Update*> + 51.45686342661714 <gurobi.Var *Awaiting Model Update*> + 30.614273279943223 <gurobi.Var *Awaiting Model Update*> + 38.67317943627976 <gurobi.Var *Awaiting Model Update*> + 30.58675754007413 <gurobi.Var *Awaiting Model Update*> + 54.75964730675788 <gurobi.Var *Awaiting Model Update*> + 63.260075454024694 <gurobi.Var *Awaiting Model Update*> + 93.00223943378519 <gurobi.Var *Awaiting Model Update*> + 19.26931847131994 <gurobi.Var *Awaiting Model Update*> + 39.935434323930025 <gurobi.Var *Awaiting Model Update*> + 49.05154468197434 <gurobi.Var *Awaiting Model Update*> + 56.36124511130574 <gurobi.Var *Awaiting Model Update*> + 50.795325016302634 <gurobi.Var *Awaiting Model Update*> + 77.48142268820729 <gurobi.Var *Awaiting Model Update*> + 46.4475510726473 <gurobi.Var *Awaiting Model Update*> + 12.83245185298126 <gurobi.Var *Awaiting Model Update*> + 73.11469464466505 <gurobi.Var *Awaiting Model Update*> + 26.081148591972394 <gurobi.Var *Awaiting Model Update*> + 56.364826477198534 <gurobi.Var *Awaiting Model Update*> + 61.85047737836364 <gurobi.Var *Awaiting Model Update*> + 36.39870012233096 <gurobi.Var *Awaiting Model Update*> + 73.02078995480126 <gurobi.Var *Awaiting Model Update*> + 71.56863687885844 <gurobi.Var *Awaiting Model Update*> + 78.92371703204573 <gurobi.Var *Awaiting Model Update*> + 71.14102369149762 <gurobi.Var *Awaiting Model Update*> + 71.50978662334198 <gurobi.Var *Awaiting Model Update*> + 42.6538775609536 <gurobi.Var *Awaiting Model Update*> + 50.488462870554926 <gurobi.Var *Awaiting Model Update*> + 30.299077589963535 <gurobi.Var *Awaiting Model Update*> + 22.027462849671164 <gurobi.Var *Awaiting Model Update*> + 56.64379751350516 <gurobi.Var *Awaiting Model Update*> + 67.3191609222182 <gurobi.Var *Awaiting Model Update*> + 41.99504564970558 <gurobi.Var *Awaiting Model Update*> + 36.0672076313989 <gurobi.Var *Awaiting Model Update*> + 41.13246230766083 <gurobi.Var *Awaiting Model Update*> + 31.742469991926413 <gurobi.Var *Awaiting Model Update*> + 98.05773747961047 <gurobi.Var *Awaiting Model Update*> + 48.7132958829279 <gurobi.Var *Awaiting Model Update*> + 80.02384289114357 <gurobi.Var *Awaiting Model Update*> + 61.96311798399522 <gurobi.Var *Awaiting Model Update*> + 52.924844170320945 <gurobi.Var *Awaiting Model Update*> + 33.583020877720664 <gurobi.Var *Awaiting Model Update*> + 24.87015621432754 <gurobi.Var *Awaiting Model Update*> + 56.14003249964834 <gurobi.Var *Awaiting Model Update*> + 25.237727506747106 <gurobi.Var *Awaiting Model Update*> + 8.116591277498287 <gurobi.Var *Awaiting Model Update*> + 78.92371703204573 <gurobi.Var *Awaiting Model Update*> + 51.420725983317276 <gurobi.Var *Awaiting Model Update*> + 36.258150947614574 <gurobi.Var *Awaiting Model Update*> + 43.70490199832803 <gurobi.Var *Awaiting Model Update*> + 35.01577895318053 <gurobi.Var *Awaiting Model Update*> + 62.86571151979837 <gurobi.Var *Awaiting Model Update*> + 59.58761177907369 <gurobi.Var *Awaiting Model Update*> + 22.10404584322701 <gurobi.Var *Awaiting Model Update*> + 52.09741456443935 <gurobi.Var *Awaiting Model Update*> + 38.10526544999127 <gurobi.Var *Awaiting Model Update*> + 61.681360204113616 <gurobi.Var *Awaiting Model Update*> + 73.71448705908931 <gurobi.Var *Awaiting Model Update*> + 57.367789125706 <gurobi.Var *Awaiting Model Update*> + 48.74733717600797 <gurobi.Var *Awaiting Model Update*> + 25.150027674998434 <gurobi.Var *Awaiting Model Update*> + 79.98675090037221 <gurobi.Var *Awaiting Model Update*> + 10.57637776862247 <gurobi.Var *Awaiting Model Update*> + 55.17307240325294 <gurobi.Var *Awaiting Model Update*> + 66.09309789900934 <gurobi.Var *Awaiting Model Update*> + 29.943814123828933 <gurobi.Var *Awaiting Model Update*> + 34.74359491181325 <gurobi.Var *Awaiting Model Update*> + 26.39931205289564 <gurobi.Var *Awaiting Model Update*> + 51.45686342661714 <gurobi.Var *Awaiting Model Update*> + 71.14102369149762 <gurobi.Var *Awaiting Model Update*> + 51.420725983317276 <gurobi.Var *Awaiting Model Update*> + 78.71316928651927 <gurobi.Var *Awaiting Model Update*> + 32.08068435512025 <gurobi.Var *Awaiting Model Update*> + 30.07830669526505 <gurobi.Var *Awaiting Model Update*> + 76.21620282381087 <gurobi.Var *Awaiting Model Update*> + 19.12956717312024 <gurobi.Var *Awaiting Model Update*> + 89.85530018663513 <gurobi.Var *Awaiting Model Update*> + 68.90277727007721 <gurobi.Var *Awaiting Model Update*> + 50.51782436236422 <gurobi.Var *Awaiting Model Update*> + 24.16288955866451 <gurobi.Var *Awaiting Model Update*> + 15.410916359680362 <gurobi.Var *Awaiting Model Update*> + 25.385945008193858 <gurobi.Var *Awaiting Model Update*> + 118.23596805451001 <gurobi.Var *Awaiting Model Update*> + 64.61589580179881 <gurobi.Var *Awaiting Model Update*> + 66.66341751908776 <gurobi.Var *Awaiting Model Update*> + 88.29201931117494 <gurobi.Var *Awaiting Model Update*> + 48.741800308792186 <gurobi.Var *Awaiting Model Update*> + 16.46399214252189 <gurobi.Var *Awaiting Model Update*> + 48.84631799561636 <gurobi.Var *Awaiting Model Update*> + 66.56385935792535 <gurobi.Var *Awaiting Model Update*> + 56.40622587286251 <gurobi.Var *Awaiting Model Update*> + 30.614273279943223 <gurobi.Var *Awaiting Model Update*> + 71.50978662334198 <gurobi.Var *Awaiting Model Update*> + 36.258150947614574 <gurobi.Var *Awaiting Model Update*> + 78.71316928651927 <gurobi.Var *Awaiting Model Update*> + 56.060529476494374 <gurobi.Var *Awaiting Model Update*> + 51.40738951112102 <gurobi.Var *Awaiting Model Update*> + 44.493112334002944 <gurobi.Var *Awaiting Model Update*> + 38.76208360272698 <gurobi.Var *Awaiting Model Update*> + 52.355486994619014 <gurobi.Var *Awaiting Model Update*> + 26.006089585188242 <gurobi.Var *Awaiting Model Update*> + 6.552546094910527 <gurobi.Var *Awaiting Model Update*> + 34.100711275926216 <gurobi.Var *Awaiting Model Update*> + 46.68623817599985 <gurobi.Var *Awaiting Model Update*> + 31.08761965894194 <gurobi.Var *Awaiting Model Update*> + 62.29194948393556 <gurobi.Var *Awaiting Model Update*> + 9.080423380262502 <gurobi.Var *Awaiting Model Update*> + 49.3846949312745 <gurobi.Var *Awaiting Model Update*> + 38.10303632672281 <gurobi.Var *Awaiting Model Update*> + 23.126829566029546 <gurobi.Var *Awaiting Model Update*> + 40.51676144125176 <gurobi.Var *Awaiting Model Update*> + 20.95703939742658 <gurobi.Var *Awaiting Model Update*> + 12.464030043116932 <gurobi.Var *Awaiting Model Update*> + 30.862882035284105 <gurobi.Var *Awaiting Model Update*> + 38.67317943627976 <gurobi.Var *Awaiting Model Update*> + 42.6538775609536 <gurobi.Var *Awaiting Model Update*> + 43.70490199832803 <gurobi.Var *Awaiting Model Update*> + 32.08068435512025 <gurobi.Var *Awaiting Model Update*> + 56.060529476494374 <gurobi.Var *Awaiting Model Update*> + 9.064897371880951 <gurobi.Var *Awaiting Model Update*> + 44.19888062749232 <gurobi.Var *Awaiting Model Update*> + 32.98093776257691 <gurobi.Var *Awaiting Model Update*> + 48.00317993723349 <gurobi.Var *Awaiting Model Update*> + 34.79703309655991 <gurobi.Var *Awaiting Model Update*> + 10.755696130808753 <gurobi.Var *Awaiting Model Update*> + 31.87990163767406 <gurobi.Var *Awaiting Model Update*> + 44.22043232973747 <gurobi.Var *Awaiting Model Update*> + 27.893748646792815 <gurobi.Var *Awaiting Model Update*> + 67.26588979508334 <gurobi.Var *Awaiting Model Update*> + 14.286063957928295 <gurobi.Var *Awaiting Model Update*> + 55.98079788133948 <gurobi.Var *Awaiting Model Update*> + 38.15107886315692 <gurobi.Var *Awaiting Model Update*> + 28.171668878818597 <gurobi.Var *Awaiting Model Update*> + 37.069655084263545 <gurobi.Var *Awaiting Model Update*> + 11.93812331586105 <gurobi.Var *Awaiting Model Update*> + 21.23525778599865 <gurobi.Var *Awaiting Model Update*> + 22.53234635689756 <gurobi.Var *Awaiting Model Update*> + 30.58675754007413 <gurobi.Var *Awaiting Model Update*> + 50.488462870554926 <gurobi.Var *Awaiting Model Update*> + 35.01577895318053 <gurobi.Var *Awaiting Model Update*> + 30.07830669526505 <gurobi.Var *Awaiting Model Update*> + 51.40738951112102 <gurobi.Var *Awaiting Model Update*> + 9.064897371880951 <gurobi.Var *Awaiting Model Update*> + 47.514807993316495 <gurobi.Var *Awaiting Model Update*> + 42.41560258914242 <gurobi.Var *Awaiting Model Update*> + 95.49347048813675 <gurobi.Var *Awaiting Model Update*> + 37.362740359690854 <gurobi.Var *Awaiting Model Update*> + 38.136426383212 <gurobi.Var *Awaiting Model Update*> + 27.09679586405359 <gurobi.Var *Awaiting Model Update*> + 29.157423673824987 <gurobi.Var *Awaiting Model Update*> + 31.127394437367858 <gurobi.Var *Awaiting Model Update*> + 98.30191037108634 <gurobi.Var *Awaiting Model Update*> + 52.26369740833546 <gurobi.Var *Awaiting Model Update*> + 22.5091795211938 <gurobi.Var *Awaiting Model Update*> + 82.01760502358057 <gurobi.Var *Awaiting Model Update*> + 21.639760077344373 <gurobi.Var *Awaiting Model Update*> + 32.25900194183711 <gurobi.Var *Awaiting Model Update*> + 55.13130907006378 <gurobi.Var *Awaiting Model Update*> + 46.56939003565092 <gurobi.Var *Awaiting Model Update*> + 67.07360543411481 <gurobi.Var *Awaiting Model Update*> + 54.75964730675788 <gurobi.Var *Awaiting Model Update*> + 30.299077589963535 <gurobi.Var *Awaiting Model Update*> + 62.86571151979837 <gurobi.Var *Awaiting Model Update*> + 76.21620282381087 <gurobi.Var *Awaiting Model Update*> + 44.493112334002944 <gurobi.Var *Awaiting Model Update*> + 44.19888062749232 <gurobi.Var *Awaiting Model Update*> + 47.514807993316495 <gurobi.Var *Awaiting Model Update*>>\n"
          ]
        }
      ]
    },
    {
      "cell_type": "code",
      "source": [
        "mdl.addConstrs(quicksum(x[i, j] for j in V if j != i) == 1 for i in N)\n",
        "mdl.addConstrs(quicksum(x[i, j] for i in V if i != j) == 1 for j in N)\n",
        "mdl.addConstrs((x[i, j] == 1) >> (u[i]+q == u[j]) for i, j in A if i != 0 and j != 0)\n",
        "mdl.addConstrs(u[i] >= q for i in N)\n",
        "mdl.addConstrs(u[i] <= Q2 for i in N)"
      ],
      "metadata": {
        "colab": {
          "base_uri": "https://localhost:8080/"
        },
        "id": "Folv0olWZNsl",
        "outputId": "9c755066-ac04-47eb-9eaa-9127d9c4b94d"
      },
      "execution_count": null,
      "outputs": [
        {
          "output_type": "execute_result",
          "data": {
            "text/plain": [
              "{1: <gurobi.Constr *Awaiting Model Update*>,\n",
              " 2: <gurobi.Constr *Awaiting Model Update*>,\n",
              " 3: <gurobi.Constr *Awaiting Model Update*>,\n",
              " 4: <gurobi.Constr *Awaiting Model Update*>,\n",
              " 5: <gurobi.Constr *Awaiting Model Update*>,\n",
              " 6: <gurobi.Constr *Awaiting Model Update*>,\n",
              " 7: <gurobi.Constr *Awaiting Model Update*>,\n",
              " 8: <gurobi.Constr *Awaiting Model Update*>,\n",
              " 9: <gurobi.Constr *Awaiting Model Update*>,\n",
              " 10: <gurobi.Constr *Awaiting Model Update*>,\n",
              " 11: <gurobi.Constr *Awaiting Model Update*>,\n",
              " 12: <gurobi.Constr *Awaiting Model Update*>,\n",
              " 13: <gurobi.Constr *Awaiting Model Update*>,\n",
              " 14: <gurobi.Constr *Awaiting Model Update*>,\n",
              " 15: <gurobi.Constr *Awaiting Model Update*>,\n",
              " 16: <gurobi.Constr *Awaiting Model Update*>,\n",
              " 17: <gurobi.Constr *Awaiting Model Update*>,\n",
              " 18: <gurobi.Constr *Awaiting Model Update*>,\n",
              " 19: <gurobi.Constr *Awaiting Model Update*>,\n",
              " 20: <gurobi.Constr *Awaiting Model Update*>,\n",
              " 21: <gurobi.Constr *Awaiting Model Update*>,\n",
              " 22: <gurobi.Constr *Awaiting Model Update*>,\n",
              " 23: <gurobi.Constr *Awaiting Model Update*>}"
            ]
          },
          "metadata": {},
          "execution_count": 57
        }
      ]
    },
    {
      "cell_type": "code",
      "source": [
        "mdl.Params.MIPGap = 0.1\n",
        "mdl.Params.TimeLimit = 30  # seconds\n",
        "mdl.optimize()"
      ],
      "metadata": {
        "colab": {
          "base_uri": "https://localhost:8080/"
        },
        "id": "S7kILF_5ZgGy",
        "outputId": "c75ad08d-be7d-446b-a595-9a49574210ed"
      },
      "execution_count": null,
      "outputs": [
        {
          "output_type": "stream",
          "name": "stdout",
          "text": [
            "Set parameter MIPGap to value 0.1\n",
            "Set parameter TimeLimit to value 30\n",
            "Gurobi Optimizer version 9.5.1 build v9.5.1rc2 (linux64)\n",
            "Thread count: 1 physical cores, 2 logical processors, using up to 2 threads\n",
            "Optimize a model with 92 rows, 575 columns and 1104 nonzeros\n",
            "Model fingerprint: 0x7688105d\n",
            "Model has 506 general constraints\n",
            "Variable types: 23 continuous, 552 integer (552 binary)\n",
            "Coefficient statistics:\n",
            "  Matrix range     [1e+00, 1e+00]\n",
            "  Objective range  [5e+00, 1e+02]\n",
            "  Bounds range     [1e+00, 1e+00]\n",
            "  RHS range        [1e+00, 4e+00]\n",
            "  GenCon rhs range [1e+00, 1e+00]\n",
            "  GenCon coe range [1e+00, 1e+00]\n",
            "Presolve added 1077 rows and 182 columns\n",
            "Presolve time: 0.06s\n",
            "Presolved: 1169 rows, 757 columns, 7544 nonzeros\n",
            "Variable types: 205 continuous, 552 integer (552 binary)\n",
            "Found heuristic solution: objective 1892.2337415\n",
            "\n",
            "Root relaxation: objective 3.831131e+02, 94 iterations, 0.00 seconds (0.00 work units)\n",
            "\n",
            "    Nodes    |    Current Node    |     Objective Bounds      |     Work\n",
            " Expl Unexpl |  Obj  Depth IntInf | Incumbent    BestBd   Gap | It/Node Time\n",
            "\n",
            "     0     0  383.11315    0   42 1892.23374  383.11315  79.8%     -    0s\n",
            "H    0     0                    1567.9742419  383.11315  75.6%     -    0s\n",
            "H    0     0                     802.6257709  383.11315  52.3%     -    0s\n",
            "     0     0  405.43780    0   50  802.62577  405.43780  49.5%     -    0s\n",
            "     0     0  406.63244    0   48  802.62577  406.63244  49.3%     -    0s\n",
            "     0     0  409.88992    0   48  802.62577  409.88992  48.9%     -    0s\n",
            "     0     0  410.30507    0   54  802.62577  410.30507  48.9%     -    0s\n",
            "     0     0  410.30507    0   54  802.62577  410.30507  48.9%     -    0s\n",
            "     0     0  410.54509    0   55  802.62577  410.54509  48.8%     -    0s\n",
            "     0     0  410.54509    0   55  802.62577  410.54509  48.8%     -    0s\n",
            "     0     0  410.54849    0   54  802.62577  410.54849  48.8%     -    0s\n",
            "     0     0  410.54849    0   54  802.62577  410.54849  48.8%     -    0s\n",
            "     0     0  410.54849    0   54  802.62577  410.54849  48.8%     -    0s\n",
            "H    0     0                     760.1634144  410.54849  46.0%     -    0s\n",
            "     0     2  413.49150    0   54  760.16341  413.49150  45.6%     -    0s\n",
            "H  108   108                     753.3571208  414.79047  44.9%  12.0    0s\n",
            "H  216   199                     750.6667535  414.79047  44.7%  10.8    1s\n",
            "   955   717  696.43992  143   29  750.66675  421.83564  43.8%  19.0    5s\n",
            "H 1417   932                     747.4950564  427.09951  42.9%  21.9    7s\n",
            "  2021  1269  552.30036   45   51  747.49506  428.49393  42.7%  20.4   10s\n",
            "  3618  2618  734.53828  106   35  747.49506  443.37813  40.7%  19.7   15s\n",
            "H 6589  5033                     746.7856669  459.47188  38.5%  19.6   20s\n",
            "H 8576  6661                     745.2603021  465.51227  37.5%  19.9   23s\n",
            "H 9061  7013                     742.4725333  466.33364  37.2%  19.9   24s\n",
            "  9466  7349  568.64480   31   48  742.47253  467.36552  37.1%  19.9   25s\n",
            "\n",
            "Cutting planes:\n",
            "  Learned: 2\n",
            "  Gomory: 21\n",
            "  Cover: 7\n",
            "  Implied bound: 32\n",
            "  Projected implied bound: 6\n",
            "  MIR: 13\n",
            "  StrongCG: 2\n",
            "  Flow cover: 68\n",
            "  GUB cover: 1\n",
            "  Inf proof: 1\n",
            "  Zero half: 15\n",
            "  Relax-and-lift: 5\n",
            "\n",
            "Explored 10202 nodes (203384 simplex iterations) in 30.02 seconds (24.91 work units)\n",
            "Thread count was 2 (of 2 available processors)\n",
            "\n",
            "Solution count 10: 742.473 745.26 746.786 ... 1892.23\n",
            "\n",
            "Time limit reached\n",
            "Best objective 7.424725333322e+02, best bound 4.695128344678e+02, gap 36.7636%\n"
          ]
        }
      ]
    },
    {
      "cell_type": "code",
      "source": [
        "active_arcs = [a for a in A if x[a].x > 0.99]"
      ],
      "metadata": {
        "id": "nd-DbjheaOLw"
      },
      "execution_count": null,
      "outputs": []
    },
    {
      "cell_type": "code",
      "source": [
        "print(active_arcs)"
      ],
      "metadata": {
        "colab": {
          "base_uri": "https://localhost:8080/"
        },
        "id": "_dHBiDIr3Z4m",
        "outputId": "ed9583b3-a9c6-41be-a6c5-4da4c4252018"
      },
      "execution_count": null,
      "outputs": [
        {
          "output_type": "stream",
          "name": "stdout",
          "text": [
            "[(0, 2), (0, 4), (0, 13), (0, 19), (0, 20), (0, 22), (1, 0), (2, 17), (3, 6), (4, 11), (5, 12), (6, 0), (7, 1), (8, 14), (9, 23), (10, 7), (11, 3), (12, 0), (13, 15), (14, 21), (15, 18), (16, 0), (17, 9), (18, 16), (19, 10), (20, 5), (21, 0), (22, 8), (23, 0)]\n"
          ]
        }
      ]
    },
    {
      "cell_type": "markdown",
      "source": [
        "As this is a very complex problem we will divide solution into parts to simplify the process of recieving an optimized answer"
      ],
      "metadata": {
        "id": "A9rQC7knPYWw"
      }
    },
    {
      "cell_type": "markdown",
      "source": [
        "We will run 4 simulations in total.\n",
        "\n",
        "1- First simulation will show routes to all shops with starting point W1 and constraint of carrying capacity of 4 (Vans)\n",
        "\n",
        "2- In the second simulation we set our starting point as warehouse W1 with Vehicle Carrying capacity \n",
        "of 16. \n",
        "\n",
        "3- In third simulation we set our starting point as warehouse W2 with vehicle carrying capacity of 4. \n",
        "\n",
        "4- And in our last simulation we will set our starting point at warehouse W2 with vehicle carrying \n",
        "capacity of 16."
      ],
      "metadata": {
        "id": "hfHdd21le9Nj"
      }
    },
    {
      "cell_type": "markdown",
      "source": [
        "Final Result"
      ],
      "metadata": {
        "id": "lBaEB09KdqrT"
      }
    },
    {
      "cell_type": "code",
      "source": [
        "for i, j in active_arcs:\n",
        "    plt.plot([xc[i], xc[j]], [yc[i], yc[j]], c='g', zorder=0)\n",
        "plt.plot(xc[0], yc[0], c='r', marker='s')\n",
        "plt.plot(xc[24], yc[24], c='r', marker='s')\n",
        "plt.scatter(xc[1:24], yc[1:24], c='b')\n",
        "annotations=[\"W1\",\"S1\",\"S2\",\"S3\",\"S4\",\"S5\",\"S6\",\"S7\",\"S8\",\"S9\",\"S10\",\"S11\",\"S12\",\"S13\",\"S14\",\"S15\",\"S16\",\"S17\",\"S18\",\"S19\",\"S20\",\"S21\",\"S22\",\"S23\",\"W2\"]\n",
        "for i, label in enumerate(annotations):\n",
        "    plt.annotate(label, (xc[i], yc[i]))\n",
        "plt.grid()"
      ],
      "metadata": {
        "colab": {
          "base_uri": "https://localhost:8080/",
          "height": 265
        },
        "id": "TD1rAAVgaVrO",
        "outputId": "048b9384-1cf0-49c2-b63a-ee2429970124"
      },
      "execution_count": null,
      "outputs": [
        {
          "output_type": "display_data",
          "data": {
            "text/plain": [
              "<Figure size 432x288 with 1 Axes>"
            ],
            "image/png": "[encoded data removed]"
          },
          "metadata": {
            "needs_background": "light"
          }
        }
      ]
    },
    {
      "cell_type": "code",
      "source": [
        "active_arcs"
      ],
      "metadata": {
        "colab": {
          "base_uri": "https://localhost:8080/"
        },
        "id": "bsUdf7FrmMiC",
        "outputId": "c4efca72-d1fe-4a57-9c2e-5d7bfc3cef46"
      },
      "execution_count": null,
      "outputs": [
        {
          "output_type": "execute_result",
          "data": {
            "text/plain": [
              "[(0, 12),\n",
              " (12, 5),\n",
              " (5, 20),\n",
              " (20, 0),\n",
              " (0, 6),\n",
              " (6, 3),\n",
              " (3, 11),\n",
              " (11, 4),\n",
              " (4, 0),\n",
              " (0, 2),\n",
              " (2, 17),\n",
              " (17, 9),\n",
              " (9, 23),\n",
              " (23, 0),\n",
              " (8, 24),\n",
              " (24, 7),\n",
              " (8, 21),\n",
              " (21, 14),\n",
              " (14, 7),\n",
              " (7, 24),\n",
              " (24, 10),\n",
              " (10, 1),\n",
              " (1, 19),\n",
              " (19, 22),\n",
              " (0, 16),\n",
              " (16, 18),\n",
              " (18, 15),\n",
              " (15, 13),\n",
              " (13, 0),\n",
              " (24, 22)]"
            ]
          },
          "metadata": {},
          "execution_count": 92
        }
      ]
    },
    {
      "cell_type": "code",
      "source": [
        "#copying pasting and modifying our arcs\n",
        "active_arcs=[(0, 12),\n",
        " (12,5),\n",
        " (5,20),\n",
        " (20,0),\n",
        " (0,6),\n",
        " (6,3),\n",
        " (3,11),\n",
        " (11,4),\n",
        " (4,0),\n",
        " (0,2),\n",
        " (2,17),\n",
        " (17,9),\n",
        " (9,23),\n",
        " (23,0),\n",
        " (8,24),\n",
        " (24,7),\n",
        " (8,21),\n",
        " (21,14),\n",
        " (14,7),\n",
        " (7,24),\n",
        " (24,10),\n",
        " (10,1),\n",
        " (1,19),\n",
        " (19,22),\n",
        " (0,16),\n",
        " (16,18),\n",
        " (18,15),\n",
        " (15,13),\n",
        " (13,0),\n",
        " (24,22)]"
      ],
      "metadata": {
        "id": "Yysddum2Q_4e"
      },
      "execution_count": null,
      "outputs": []
    },
    {
      "cell_type": "code",
      "source": [],
      "metadata": {
        "id": "pCbRDJtYPP07"
      },
      "execution_count": null,
      "outputs": []
    }
  ]
}